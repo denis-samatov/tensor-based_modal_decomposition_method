{
 "cells": [
  {
   "cell_type": "markdown",
   "metadata": {},
   "source": [
    "# Download packages"
   ]
  },
  {
   "cell_type": "code",
   "execution_count": 3,
   "metadata": {},
   "outputs": [
    {
     "name": "stdout",
     "output_type": "stream",
     "text": [
      "Requirement already satisfied: tensorly in /Library/Frameworks/Python.framework/Versions/3.12/lib/python3.12/site-packages (0.8.1)\n",
      "Requirement already satisfied: numpy in /Library/Frameworks/Python.framework/Versions/3.12/lib/python3.12/site-packages (from tensorly) (1.26.4)\n",
      "Requirement already satisfied: scipy in /Library/Frameworks/Python.framework/Versions/3.12/lib/python3.12/site-packages (from tensorly) (1.13.1)\n",
      "Note: you may need to restart the kernel to use updated packages.\n"
     ]
    }
   ],
   "source": [
    "%pip install tensorly"
   ]
  },
  {
   "cell_type": "markdown",
   "metadata": {},
   "source": [
    "# Import libraries"
   ]
  },
  {
   "cell_type": "code",
   "execution_count": 18,
   "metadata": {},
   "outputs": [],
   "source": [
    "import numpy as np\n",
    "import tensorly as tl\n",
    "from tensorly import unfold\n",
    "from tensorly.tenalg import mode_dot\n",
    "from typing import Set, Tuple"
   ]
  },
  {
   "cell_type": "code",
   "execution_count": 5,
   "metadata": {},
   "outputs": [],
   "source": [
    "# Устанавливаем бэкэнд TensorLy на NumPy (по умолчанию)\n",
    "tl.set_backend('numpy')"
   ]
  },
  {
   "cell_type": "code",
   "execution_count": 6,
   "metadata": {},
   "outputs": [],
   "source": [
    "seed = 42\n",
    "\n",
    "tl.check_random_state(seed)\n",
    "np.random.seed(seed)"
   ]
  },
  {
   "cell_type": "markdown",
   "metadata": {},
   "source": [
    "# Algoritm using article idea"
   ]
  },
  {
   "cell_type": "code",
   "execution_count": 36,
   "metadata": {},
   "outputs": [],
   "source": [
    "# Размеры тензора\n",
    "n1, n2, m = 5, 5, 5\n",
    "N = 3  # Число итераций\n",
    "\n",
    "# Создаем случайный тензор X\n",
    "X = tl.tensor(np.random.rand(n1, n2, m), dtype=tl.float32)"
   ]
  },
  {
   "cell_type": "code",
   "execution_count": 37,
   "metadata": {},
   "outputs": [],
   "source": [
    "# Инициализация\n",
    "R = X.copy()\n",
    "Q = tl.tensor(np.eye(m), dtype=tl.float32)\n",
    "P = tl.zeros((n1, n2), dtype=tl.float32)\n",
    "M = tl.zeros((n1, n2), dtype=tl.float32)\n",
    "A = set()"
   ]
  },
  {
   "cell_type": "markdown",
   "metadata": {},
   "source": [
    "## First variant"
   ]
  },
  {
   "cell_type": "code",
   "execution_count": 38,
   "metadata": {},
   "outputs": [
    {
     "name": "stdout",
     "output_type": "stream",
     "text": [
      "P:\n",
      "[[0. 1. 0. 0. 1.]\n",
      " [0. 1. 0. 0. 0.]\n",
      " [0. 0. 0. 0. 0.]\n",
      " [0. 0. 0. 0. 0.]\n",
      " [0. 0. 0. 0. 0.]]\n",
      "\n",
      "Q:\n",
      "[[-0.43123817  0.82567656 -0.3545223   0.08019531  0.01321003]\n",
      " [-0.53034306  0.06494915  0.8306248   0.15514696 -0.02257791]\n",
      " [-0.52870864 -0.30869108 -0.22212034 -0.5629372  -0.5088626 ]\n",
      " [-0.29465252 -0.36285633 -0.314533    0.7968999  -0.21802461]\n",
      " [-0.4079423  -0.29510164 -0.19002092 -0.13247766  0.83237004]]\n",
      "\n",
      "R:\n",
      "[[[ 6.98161721e-01  5.36096394e-01  3.09527606e-01  8.13795030e-01\n",
      "    6.84731185e-01]\n",
      "  [ 1.62616938e-01  9.10927176e-01 -1.45098448e+00  5.96046448e-08\n",
      "    5.96046448e-08]\n",
      "  [ 6.13415182e-01  4.18243051e-01  9.32728469e-01  8.66063893e-01\n",
      "    4.52186689e-02]\n",
      "  [ 2.63669752e-02  3.76463354e-01  8.10553312e-01  9.87276137e-01\n",
      "    1.50416896e-01]\n",
      "  [ 5.94130695e-01 -1.58043373e+00  0.00000000e+00  0.00000000e+00\n",
      "    0.00000000e+00]]\n",
      "\n",
      " [[ 4.68693167e-01  4.14819509e-01  2.73407072e-01  5.63754961e-02\n",
      "    8.64722371e-01]\n",
      "  [-1.88503957e+00  5.96046448e-08  5.96046448e-08  5.96046448e-08\n",
      "    5.96046448e-08]\n",
      "  [ 9.44765747e-01  8.49647403e-01  2.47348100e-01  4.50544149e-01\n",
      "    1.29159421e-01]\n",
      "  [ 9.54051018e-01  6.06174648e-01  2.28642806e-01  6.71700656e-01\n",
      "    6.18128240e-01]\n",
      "  [ 3.58162731e-01  1.13557592e-01  6.71573222e-01  5.20307720e-01\n",
      "    7.72318363e-01]]\n",
      "\n",
      " [[ 5.20163476e-01  8.52181494e-01  5.51906824e-01  5.60938001e-01\n",
      "    8.76653612e-01]\n",
      "  [ 4.03482854e-01  1.34015232e-01  2.87826769e-02  7.55137265e-01\n",
      "    6.20309532e-01]\n",
      "  [ 7.04079747e-01  2.12964162e-01  1.36371478e-01  1.45446658e-02\n",
      "    3.50587547e-01]\n",
      "  [ 5.89917660e-01  3.92244041e-01  4.37474936e-01  9.04158711e-01\n",
      "    3.48255455e-01]\n",
      "  [ 5.13989508e-01  7.83653021e-01  3.96542788e-01  6.22086704e-01\n",
      "    8.62363696e-01]]\n",
      "\n",
      " [[ 9.49520648e-01  1.47073478e-01  9.26587641e-01  4.92116302e-01\n",
      "    2.58244395e-01]\n",
      "  [ 4.59135771e-01  9.80032563e-01  4.92618084e-01  3.28751624e-01\n",
      "    6.33400857e-01]\n",
      "  [ 2.40145624e-01  7.58633316e-02  1.28879726e-01  1.28045842e-01\n",
      "    1.51902691e-01]\n",
      "  [ 1.38827175e-01  6.40874743e-01  1.81880087e-01  3.45667273e-01\n",
      "    8.96788418e-01]\n",
      "  [ 4.73961651e-01  6.67557716e-01  1.72319874e-01  1.92289025e-01\n",
      "    4.08686176e-02]]\n",
      "\n",
      " [[ 1.68935061e-01  2.78590351e-01  1.77010491e-01  8.87025371e-02\n",
      "    1.20635875e-01]\n",
      "  [ 4.60778773e-01  2.06333712e-01  3.64269853e-01  5.03417253e-01\n",
      "    6.90394819e-01]\n",
      "  [ 3.93121392e-02  7.99410403e-01  6.27900362e-01  8.17590356e-02\n",
      "    8.73578608e-01]\n",
      "  [ 9.20872390e-01  6.10779598e-02  2.76877642e-01  8.06201279e-01\n",
      "    7.48259664e-01]\n",
      "  [ 1.84521019e-01  2.09349319e-01  3.70472103e-01  4.84522998e-01\n",
      "    6.18254781e-01]]]\n"
     ]
    }
   ],
   "source": [
    "for d in range(N):\n",
    "    # Вычисляем нормы трубчатых фибр и заполняем матрицу M\n",
    "    for i in range(n1):\n",
    "        for j in range(n2):\n",
    "            tube = R[i, j, :]\n",
    "            M[i, j] = tl.norm(tube, 1)\n",
    "    \n",
    "    # Находим максимальный элемент в M, который не был использован\n",
    "    while True:\n",
    "        max_index = tl.argmax(M)\n",
    "        x, y = divmod(max_index.item(), n2)\n",
    "        if (x, y) not in A:\n",
    "            break\n",
    "        else:\n",
    "            M[x, y] = 0  # Обнуляем элемент, чтобы не выбирать его снова\n",
    "    \n",
    "    A.add((x, y))\n",
    "    P[x, y] = 1  # Устанавливаем соответствующий элемент в P равным 1\n",
    "    \n",
    "    # Извлекаем вектор t\n",
    "    t = R[x, y, d:]\n",
    "    \n",
    "    # Вычисляем σ и вектор u\n",
    "    sigma = tl.norm(t, 2)\n",
    "    if sigma == 0:\n",
    "        u = tl.zeros_like(t)\n",
    "    else:\n",
    "        e1 = tl.zeros_like(t)\n",
    "        e1[0] = 1\n",
    "        sign_t1 = tl.sign(t[0]) if t[0] != 0 else 1\n",
    "        u = t + sign_t1 * sigma * e1\n",
    "        denominator = tl.sqrt(2 * sigma * (sigma + tl.abs(t[0])))\n",
    "        u = u / denominator\n",
    "\n",
    "    # Обновляем только выбранную трубчатую фибру R[x, y, d:]\n",
    "    R[x, y, d:] = R[x, y, d:] - 2 * u * tl.dot(tl.transpose(u), R[x, y, d:])\n",
    "    \n",
    "    # Обновляем Q\n",
    "    u_Q = u.reshape(-1, 1)  # Размерность (m - d, 1)\n",
    "    Q_d = Q[:, d:]          # Размерность (m, m - d)\n",
    "    Q[:, d:] = Q_d - 2 * Q_d @ (u_Q @ u_Q.T)\n",
    "\n",
    "print(\"P:\")\n",
    "print(P)\n",
    "print(\"\\nQ:\")\n",
    "print(Q)\n",
    "print(\"\\nR:\")\n",
    "print(R)"
   ]
  },
  {
   "cell_type": "code",
   "execution_count": 39,
   "metadata": {},
   "outputs": [
    {
     "name": "stdout",
     "output_type": "stream",
     "text": [
      "\n",
      "Norm of (Q^T Q - I): 2.42633689140348e-07\n"
     ]
    }
   ],
   "source": [
    "Q_T_Q = tl.dot(Q.T, Q)\n",
    "identity = tl.tensor(np.eye(m), dtype=tl.float32)\n",
    "difference = tl.norm(Q_T_Q - identity)\n",
    "\n",
    "\n",
    "print(f\"\\nNorm of (Q^T Q - I): {difference}\")"
   ]
  },
  {
   "cell_type": "code",
   "execution_count": 40,
   "metadata": {},
   "outputs": [
    {
     "name": "stdout",
     "output_type": "stream",
     "text": [
      "Ошибка восстановления: 1.4930887\n"
     ]
    }
   ],
   "source": [
    "# Восстановление X из R и Q\n",
    "R_reshaped = R.reshape(n1 * n2, m)\n",
    "X_approx = tl.dot(R_reshaped, Q.T)\n",
    "X_approx = X_approx.reshape(n1, n2, m)\n",
    "\n",
    "# Вычисление ошибки восстановления\n",
    "reconstruction_error = tl.norm(X - X_approx) / tl.norm(X)\n",
    "print(\"Ошибка восстановления:\", reconstruction_error)"
   ]
  },
  {
   "cell_type": "markdown",
   "metadata": {},
   "source": [
    "## Second variant"
   ]
  },
  {
   "cell_type": "code",
   "execution_count": 41,
   "metadata": {},
   "outputs": [],
   "source": [
    "# Initialization\n",
    "R = X.copy()\n",
    "Q = tl.tensor(np.eye(m), dtype=tl.float32)\n",
    "P = tl.zeros((n1, n2), dtype=tl.float32)\n",
    "M = tl.zeros((n1, n2), dtype=tl.float32)\n",
    "A = set()"
   ]
  },
  {
   "cell_type": "code",
   "execution_count": 42,
   "metadata": {},
   "outputs": [
    {
     "name": "stdout",
     "output_type": "stream",
     "text": [
      "P:\n",
      "[[0. 1. 0. 0. 1.]\n",
      " [0. 1. 0. 0. 0.]\n",
      " [0. 0. 0. 0. 0.]\n",
      " [0. 0. 0. 0. 0.]\n",
      " [0. 0. 0. 0. 0.]]\n",
      "\n",
      "Q:\n",
      "[[-0.43123817  0.82567656 -0.3545223   0.08019531  0.01321003]\n",
      " [-0.53034306  0.06494915  0.8306248   0.15514696 -0.02257791]\n",
      " [-0.52870864 -0.30869108 -0.22212034 -0.5629372  -0.5088626 ]\n",
      " [-0.29465252 -0.36285633 -0.314533    0.7968999  -0.21802461]\n",
      " [-0.4079423  -0.29510164 -0.19002092 -0.13247766  0.83237004]]\n",
      "\n",
      "R:\n",
      "[[[ 6.98161721e-01  5.36096394e-01  3.09527606e-01  8.13795030e-01\n",
      "    6.84731185e-01]\n",
      "  [ 1.62616938e-01  9.10927176e-01 -1.45098448e+00  5.96046448e-08\n",
      "    5.96046448e-08]\n",
      "  [ 6.13415182e-01  4.18243051e-01  9.32728469e-01  8.66063893e-01\n",
      "    4.52186689e-02]\n",
      "  [ 2.63669752e-02  3.76463354e-01  8.10553312e-01  9.87276137e-01\n",
      "    1.50416896e-01]\n",
      "  [ 5.94130695e-01 -1.58043373e+00  0.00000000e+00  0.00000000e+00\n",
      "    0.00000000e+00]]\n",
      "\n",
      " [[ 4.68693167e-01  4.14819509e-01  2.73407072e-01  5.63754961e-02\n",
      "    8.64722371e-01]\n",
      "  [-1.88503957e+00  5.96046448e-08  5.96046448e-08  5.96046448e-08\n",
      "    5.96046448e-08]\n",
      "  [ 9.44765747e-01  8.49647403e-01  2.47348100e-01  4.50544149e-01\n",
      "    1.29159421e-01]\n",
      "  [ 9.54051018e-01  6.06174648e-01  2.28642806e-01  6.71700656e-01\n",
      "    6.18128240e-01]\n",
      "  [ 3.58162731e-01  1.13557592e-01  6.71573222e-01  5.20307720e-01\n",
      "    7.72318363e-01]]\n",
      "\n",
      " [[ 5.20163476e-01  8.52181494e-01  5.51906824e-01  5.60938001e-01\n",
      "    8.76653612e-01]\n",
      "  [ 4.03482854e-01  1.34015232e-01  2.87826769e-02  7.55137265e-01\n",
      "    6.20309532e-01]\n",
      "  [ 7.04079747e-01  2.12964162e-01  1.36371478e-01  1.45446658e-02\n",
      "    3.50587547e-01]\n",
      "  [ 5.89917660e-01  3.92244041e-01  4.37474936e-01  9.04158711e-01\n",
      "    3.48255455e-01]\n",
      "  [ 5.13989508e-01  7.83653021e-01  3.96542788e-01  6.22086704e-01\n",
      "    8.62363696e-01]]\n",
      "\n",
      " [[ 9.49520648e-01  1.47073478e-01  9.26587641e-01  4.92116302e-01\n",
      "    2.58244395e-01]\n",
      "  [ 4.59135771e-01  9.80032563e-01  4.92618084e-01  3.28751624e-01\n",
      "    6.33400857e-01]\n",
      "  [ 2.40145624e-01  7.58633316e-02  1.28879726e-01  1.28045842e-01\n",
      "    1.51902691e-01]\n",
      "  [ 1.38827175e-01  6.40874743e-01  1.81880087e-01  3.45667273e-01\n",
      "    8.96788418e-01]\n",
      "  [ 4.73961651e-01  6.67557716e-01  1.72319874e-01  1.92289025e-01\n",
      "    4.08686176e-02]]\n",
      "\n",
      " [[ 1.68935061e-01  2.78590351e-01  1.77010491e-01  8.87025371e-02\n",
      "    1.20635875e-01]\n",
      "  [ 4.60778773e-01  2.06333712e-01  3.64269853e-01  5.03417253e-01\n",
      "    6.90394819e-01]\n",
      "  [ 3.93121392e-02  7.99410403e-01  6.27900362e-01  8.17590356e-02\n",
      "    8.73578608e-01]\n",
      "  [ 9.20872390e-01  6.10779598e-02  2.76877642e-01  8.06201279e-01\n",
      "    7.48259664e-01]\n",
      "  [ 1.84521019e-01  2.09349319e-01  3.70472103e-01  4.84522998e-01\n",
      "    6.18254781e-01]]]\n"
     ]
    }
   ],
   "source": [
    "for d in range(N):\n",
    "    # Вычисляем трубчатые ℓ1-нормы и заполняем матрицу M\n",
    "    for i in range(n1):\n",
    "        for j in range(n2):\n",
    "            tube = R[i, j, :]\n",
    "            M[i, j] = tl.norm(tube, 1)  # Используем ℓ1-норму\n",
    "\n",
    "    # Находим максимальный элемент в M, который не был использован\n",
    "    while True:\n",
    "        max_index = tl.argmax(M)\n",
    "        max_index = int(max_index)\n",
    "        x, y = divmod(max_index, n2)\n",
    "        if (x, y) not in A:\n",
    "            break\n",
    "        else:\n",
    "            M[x, y] = 0  # Обнуляем элемент, чтобы не выбирать его снова\n",
    "\n",
    "    A.add((x, y))\n",
    "    P[x, y] = 1  # Устанавливаем соответствующий элемент в P равным 1\n",
    "\n",
    "    # Извлекаем вектор t\n",
    "    t = R[x, y, d:]\n",
    "\n",
    "    # Вычисляем σ и вектор u\n",
    "    sigma = tl.norm(t, 2)\n",
    "    if sigma == 0:\n",
    "        u = tl.zeros_like(t)\n",
    "    else:\n",
    "        e_d = tl.zeros_like(t)\n",
    "        e_d[0] = 1  # Позиция 0 соответствует позиции d в Python\n",
    "        t1 = t[0]\n",
    "        sign_t1 = tl.sign(t1) if t1 != 0 else 1\n",
    "        numerator = t + sign_t1 * sigma * e_d\n",
    "        denominator = tl.sqrt(2 * sigma * (sigma + tl.abs(t1)))\n",
    "        u = numerator / denominator\n",
    "\n",
    "    # Обновляем R_x,y,d:m\n",
    "    R_slice = R[x, y, d:]\n",
    "    R[x, y, d:] = R_slice - 2 * u * tl.dot(u, R_slice)\n",
    "\n",
    "    # Обновляем Q\n",
    "    u_Q = u.reshape(-1, 1)  # Размерность (m - d, 1)\n",
    "    Q_d = Q[:, d:]  # Размерность (m, m - d)\n",
    "    Q[:, d:] = Q_d - 2 * Q_d @ (u_Q @ u_Q.T)\n",
    "\n",
    "print(\"P:\")\n",
    "print(P)\n",
    "print(\"\\nQ:\")\n",
    "print(Q)\n",
    "print(\"\\nR:\")\n",
    "print(R)"
   ]
  },
  {
   "cell_type": "code",
   "execution_count": 43,
   "metadata": {},
   "outputs": [
    {
     "name": "stdout",
     "output_type": "stream",
     "text": [
      "\n",
      "Norm of (Q^T Q - I): 2.42633689140348e-07\n"
     ]
    }
   ],
   "source": [
    "Q_T_Q = tl.dot(Q.T, Q)\n",
    "identity = tl.tensor(np.eye(m), dtype=tl.float32)\n",
    "difference = tl.norm(Q_T_Q - identity)\n",
    "\n",
    "\n",
    "print(f\"\\nNorm of (Q^T Q - I): {difference}\")"
   ]
  },
  {
   "cell_type": "code",
   "execution_count": 44,
   "metadata": {},
   "outputs": [
    {
     "name": "stdout",
     "output_type": "stream",
     "text": [
      "Ошибка восстановления: 1.4930887\n"
     ]
    }
   ],
   "source": [
    "# Восстановление X из R и Q\n",
    "R_reshaped = R.reshape(n1 * n2, m)\n",
    "X_approx = tl.dot(R_reshaped, Q.T)\n",
    "X_approx = X_approx.reshape(n1, n2, m)\n",
    "\n",
    "# Вычисление ошибки восстановления\n",
    "reconstruction_error = tl.norm(X - X_approx) / tl.norm(X)\n",
    "print(\"Ошибка восстановления:\", reconstruction_error)"
   ]
  },
  {
   "cell_type": "markdown",
   "metadata": {},
   "source": [
    "## Final variant"
   ]
  },
  {
   "cell_type": "code",
   "execution_count": 45,
   "metadata": {},
   "outputs": [],
   "source": [
    "def tensor_based_tube_fiber_pivot_qr_factorization(R: tl.tensor, N: int, A: Set[Tuple[int, int]], \n",
    "                                                   P: tl.tensor, Q: tl.tensor, M: tl.tensor) -> Tuple[tl.tensor, tl.tensor, tl.tensor]:\n",
    "    \"\"\"\n",
    "    Implements the Tensor-based Tube Fiber-pivot QR Factorization.\n",
    "\n",
    "    Parameters:\n",
    "    - R: Input 3D tensor of shape (n1 x n2 x m), where n1 and n2 are dimensions of the matrix,\n",
    "         and m is the size of each tube (depth).\n",
    "    - N: Number of iterations for the factorization.\n",
    "    - A: Set of already used indices (to avoid repetition in the pivot).\n",
    "    - P: Output permutation matrix (n1 x n2) for selecting sensors or fibers.\n",
    "    - Q: Orthogonal matrix to be updated (m x m).\n",
    "    - M: Matrix to store the ℓ1-norms (n1 x n2) of the tubes from tensor R.\n",
    "\n",
    "    Returns:\n",
    "    - P: Updated permutation matrix with selected sensor placements.\n",
    "    - Q: Updated orthogonal matrix after each iteration.\n",
    "    - R: Updated tensor after applying Householder transformations.\n",
    "    \"\"\"\n",
    "\n",
    "    n1, n2, _ = R.shape\n",
    "\n",
    "    for d in range(N):\n",
    "        # Compute tubular ℓ1-norms and fill matrix M\n",
    "        for i in range(n1):\n",
    "            for j in range(n2):\n",
    "                tube = R[i, j, :]\n",
    "                M[i, j] = tl.norm(tube, 1)  # Using ℓ1-norm\n",
    "\n",
    "        # Find the maximum element in M that has not been used\n",
    "        while True:\n",
    "            max_index = tl.argmax(M)\n",
    "            max_index = int(max_index)\n",
    "            x, y = divmod(max_index, n2)\n",
    "            if (x, y) not in A:\n",
    "                break\n",
    "            else:\n",
    "                M[x, y] = 0  # Zero out the element to avoid reusing it\n",
    "\n",
    "        A.add((x, y))\n",
    "        P[x, y] = 1  # Set the corresponding element in P to 1\n",
    "\n",
    "        # Extract vector t from tensor R\n",
    "        t = R[x, y, d:]\n",
    "\n",
    "        # Compute sigma and vector u\n",
    "        sigma = tl.norm(t, 2)\n",
    "        if sigma == 0:\n",
    "            u = tl.zeros_like(t)\n",
    "        else:\n",
    "            e_d = tl.zeros_like(t)\n",
    "            e_d[0] = 1  # Position 0 corresponds to position d in Python\n",
    "            t1 = t[0]\n",
    "            sign_t1 = tl.sign(t1) if t1 != 0 else 1\n",
    "            numerator = t + sign_t1 * sigma * e_d\n",
    "            denominator = tl.sqrt(2 * sigma * (sigma + tl.abs(t1)))\n",
    "            u = numerator / denominator\n",
    "\n",
    "        # Update R for slice x, y, d:m\n",
    "        R_slice = R[x, y, d:]\n",
    "        R[x, y, d:] = R_slice - 2 * u * tl.dot(u, R_slice)\n",
    "\n",
    "        # Update Q matrix\n",
    "        u_Q = u.reshape(-1, 1)  # Reshape u to (m - d, 1)\n",
    "        Q_d = Q[:, d:]  # Get submatrix of Q from column d onwards\n",
    "        Q[:, d:] = Q_d - 2 * Q_d @ (u_Q @ u_Q.T)  # Update Q\n",
    "\n",
    "    # Return the updated P, Q, and R matrices\n",
    "    return P, Q, R"
   ]
  },
  {
   "cell_type": "code",
   "execution_count": 46,
   "metadata": {},
   "outputs": [],
   "source": [
    "# Initialization\n",
    "R = X.copy()\n",
    "Q = tl.tensor(np.eye(m), dtype=tl.float32)\n",
    "P = tl.zeros((n1, n2), dtype=tl.float32)\n",
    "M = tl.zeros((n1, n2), dtype=tl.float32)\n",
    "A = set()\n",
    "\n",
    "# Call the factorization function\n",
    "P_updated, Q_updated, R_updated = tensor_based_tube_fiber_pivot_qr_factorization(R, N, A, P, Q, M)\n",
    "\n",
    "# Now P_updated, Q_updated, and R_updated contain the outputs of the factorization"
   ]
  },
  {
   "cell_type": "code",
   "execution_count": 47,
   "metadata": {},
   "outputs": [
    {
     "name": "stdout",
     "output_type": "stream",
     "text": [
      "P:\n",
      "[[0. 1. 0. 0. 1.]\n",
      " [0. 1. 0. 0. 0.]\n",
      " [0. 0. 0. 0. 0.]\n",
      " [0. 0. 0. 0. 0.]\n",
      " [0. 0. 0. 0. 0.]]\n",
      "\n",
      "Q:\n",
      "[[-0.43123817  0.82567656 -0.3545223   0.08019531  0.01321003]\n",
      " [-0.53034306  0.06494915  0.8306248   0.15514696 -0.02257791]\n",
      " [-0.52870864 -0.30869108 -0.22212034 -0.5629372  -0.5088626 ]\n",
      " [-0.29465252 -0.36285633 -0.314533    0.7968999  -0.21802461]\n",
      " [-0.4079423  -0.29510164 -0.19002092 -0.13247766  0.83237004]]\n",
      "\n",
      "R:\n",
      "[[[ 6.98161721e-01  5.36096394e-01  3.09527606e-01  8.13795030e-01\n",
      "    6.84731185e-01]\n",
      "  [ 1.62616938e-01  9.10927176e-01 -1.45098448e+00  5.96046448e-08\n",
      "    5.96046448e-08]\n",
      "  [ 6.13415182e-01  4.18243051e-01  9.32728469e-01  8.66063893e-01\n",
      "    4.52186689e-02]\n",
      "  [ 2.63669752e-02  3.76463354e-01  8.10553312e-01  9.87276137e-01\n",
      "    1.50416896e-01]\n",
      "  [ 5.94130695e-01 -1.58043373e+00  0.00000000e+00  0.00000000e+00\n",
      "    0.00000000e+00]]\n",
      "\n",
      " [[ 4.68693167e-01  4.14819509e-01  2.73407072e-01  5.63754961e-02\n",
      "    8.64722371e-01]\n",
      "  [-1.88503957e+00  5.96046448e-08  5.96046448e-08  5.96046448e-08\n",
      "    5.96046448e-08]\n",
      "  [ 9.44765747e-01  8.49647403e-01  2.47348100e-01  4.50544149e-01\n",
      "    1.29159421e-01]\n",
      "  [ 9.54051018e-01  6.06174648e-01  2.28642806e-01  6.71700656e-01\n",
      "    6.18128240e-01]\n",
      "  [ 3.58162731e-01  1.13557592e-01  6.71573222e-01  5.20307720e-01\n",
      "    7.72318363e-01]]\n",
      "\n",
      " [[ 5.20163476e-01  8.52181494e-01  5.51906824e-01  5.60938001e-01\n",
      "    8.76653612e-01]\n",
      "  [ 4.03482854e-01  1.34015232e-01  2.87826769e-02  7.55137265e-01\n",
      "    6.20309532e-01]\n",
      "  [ 7.04079747e-01  2.12964162e-01  1.36371478e-01  1.45446658e-02\n",
      "    3.50587547e-01]\n",
      "  [ 5.89917660e-01  3.92244041e-01  4.37474936e-01  9.04158711e-01\n",
      "    3.48255455e-01]\n",
      "  [ 5.13989508e-01  7.83653021e-01  3.96542788e-01  6.22086704e-01\n",
      "    8.62363696e-01]]\n",
      "\n",
      " [[ 9.49520648e-01  1.47073478e-01  9.26587641e-01  4.92116302e-01\n",
      "    2.58244395e-01]\n",
      "  [ 4.59135771e-01  9.80032563e-01  4.92618084e-01  3.28751624e-01\n",
      "    6.33400857e-01]\n",
      "  [ 2.40145624e-01  7.58633316e-02  1.28879726e-01  1.28045842e-01\n",
      "    1.51902691e-01]\n",
      "  [ 1.38827175e-01  6.40874743e-01  1.81880087e-01  3.45667273e-01\n",
      "    8.96788418e-01]\n",
      "  [ 4.73961651e-01  6.67557716e-01  1.72319874e-01  1.92289025e-01\n",
      "    4.08686176e-02]]\n",
      "\n",
      " [[ 1.68935061e-01  2.78590351e-01  1.77010491e-01  8.87025371e-02\n",
      "    1.20635875e-01]\n",
      "  [ 4.60778773e-01  2.06333712e-01  3.64269853e-01  5.03417253e-01\n",
      "    6.90394819e-01]\n",
      "  [ 3.93121392e-02  7.99410403e-01  6.27900362e-01  8.17590356e-02\n",
      "    8.73578608e-01]\n",
      "  [ 9.20872390e-01  6.10779598e-02  2.76877642e-01  8.06201279e-01\n",
      "    7.48259664e-01]\n",
      "  [ 1.84521019e-01  2.09349319e-01  3.70472103e-01  4.84522998e-01\n",
      "    6.18254781e-01]]]\n"
     ]
    }
   ],
   "source": [
    "print(\"P:\")\n",
    "print(P_updated)\n",
    "print(\"\\nQ:\")\n",
    "print(Q_updated)\n",
    "print(\"\\nR:\")\n",
    "print(R_updated)"
   ]
  },
  {
   "cell_type": "code",
   "execution_count": null,
   "metadata": {},
   "outputs": [],
   "source": []
  }
 ],
 "metadata": {
  "kernelspec": {
   "display_name": "Python 3",
   "language": "python",
   "name": "python3"
  },
  "language_info": {
   "codemirror_mode": {
    "name": "ipython",
    "version": 3
   },
   "file_extension": ".py",
   "mimetype": "text/x-python",
   "name": "python",
   "nbconvert_exporter": "python",
   "pygments_lexer": "ipython3",
   "version": "3.12.5"
  }
 },
 "nbformat": 4,
 "nbformat_minor": 2
}
