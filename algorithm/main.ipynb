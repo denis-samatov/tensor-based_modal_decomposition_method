{
 "cells": [
  {
   "cell_type": "markdown",
   "metadata": {},
   "source": [
    "# Download packages"
   ]
  },
  {
   "cell_type": "code",
   "execution_count": 1,
   "metadata": {},
   "outputs": [
    {
     "name": "stdout",
     "output_type": "stream",
     "text": [
      "Requirement already satisfied: tensorly in /Users/denissamatov/Heriot-Watt/tensor-based_modal_decomposition_method/.venv/lib/python3.12/site-packages (0.9.0)\n",
      "Requirement already satisfied: torch in /Users/denissamatov/Heriot-Watt/tensor-based_modal_decomposition_method/.venv/lib/python3.12/site-packages (2.5.1)\n",
      "Requirement already satisfied: numpy in /Users/denissamatov/Heriot-Watt/tensor-based_modal_decomposition_method/.venv/lib/python3.12/site-packages (from tensorly) (2.1.3)\n",
      "Requirement already satisfied: scipy in /Users/denissamatov/Heriot-Watt/tensor-based_modal_decomposition_method/.venv/lib/python3.12/site-packages (from tensorly) (1.14.1)\n",
      "Requirement already satisfied: filelock in /Users/denissamatov/Heriot-Watt/tensor-based_modal_decomposition_method/.venv/lib/python3.12/site-packages (from torch) (3.16.1)\n",
      "Requirement already satisfied: typing-extensions>=4.8.0 in /Users/denissamatov/Heriot-Watt/tensor-based_modal_decomposition_method/.venv/lib/python3.12/site-packages (from torch) (4.12.2)\n",
      "Requirement already satisfied: networkx in /Users/denissamatov/Heriot-Watt/tensor-based_modal_decomposition_method/.venv/lib/python3.12/site-packages (from torch) (3.4.2)\n",
      "Requirement already satisfied: jinja2 in /Users/denissamatov/Heriot-Watt/tensor-based_modal_decomposition_method/.venv/lib/python3.12/site-packages (from torch) (3.1.4)\n",
      "Requirement already satisfied: fsspec in /Users/denissamatov/Heriot-Watt/tensor-based_modal_decomposition_method/.venv/lib/python3.12/site-packages (from torch) (2024.10.0)\n",
      "Requirement already satisfied: setuptools in /Users/denissamatov/Heriot-Watt/tensor-based_modal_decomposition_method/.venv/lib/python3.12/site-packages (from torch) (75.3.0)\n",
      "Requirement already satisfied: sympy==1.13.1 in /Users/denissamatov/Heriot-Watt/tensor-based_modal_decomposition_method/.venv/lib/python3.12/site-packages (from torch) (1.13.1)\n",
      "Requirement already satisfied: mpmath<1.4,>=1.1.0 in /Users/denissamatov/Heriot-Watt/tensor-based_modal_decomposition_method/.venv/lib/python3.12/site-packages (from sympy==1.13.1->torch) (1.3.0)\n",
      "Requirement already satisfied: MarkupSafe>=2.0 in /Users/denissamatov/Heriot-Watt/tensor-based_modal_decomposition_method/.venv/lib/python3.12/site-packages (from jinja2->torch) (3.0.2)\n",
      "Note: you may need to restart the kernel to use updated packages.\n"
     ]
    }
   ],
   "source": [
    "%pip install -U tensorly torch"
   ]
  },
  {
   "cell_type": "markdown",
   "metadata": {},
   "source": [
    "# Import libraries"
   ]
  },
  {
   "cell_type": "code",
   "execution_count": 2,
   "metadata": {},
   "outputs": [],
   "source": [
    "import numpy as np\n",
    "import tensorly as tl\n",
    "import math\n",
    "import matplotlib.pyplot as plt\n",
    "\n",
    "\n",
    "from PIL import Image\n",
    "from pathlib import Path\n",
    "\n",
    "from collections import defaultdict\n",
    "from sklearn.model_selection import train_test_split\n",
    "\n",
    "from TBMD.TensorHOSVD import TuckerDecomposer\n",
    "from TBMD.TensorBasedTubeFiberPivotQRFactorization import TensorTubeQRDecomposition\n",
    "from TBMD.TensorBasedCompressiveSensing import TensorCompressiveSensing"
   ]
  },
  {
   "cell_type": "code",
   "execution_count": 3,
   "metadata": {},
   "outputs": [],
   "source": [
    "tl.set_backend('numpy')"
   ]
  },
  {
   "cell_type": "code",
   "execution_count": 4,
   "metadata": {},
   "outputs": [],
   "source": [
    "SEED = 42\n",
    "\n",
    "tl.check_random_state(SEED)\n",
    "np.random.seed(SEED)"
   ]
  },
  {
   "cell_type": "markdown",
   "metadata": {},
   "source": [
    "# Download data"
   ]
  },
  {
   "cell_type": "code",
   "execution_count": 5,
   "metadata": {},
   "outputs": [
    {
     "name": "stdout",
     "output_type": "stream",
     "text": [
      "Все эксперименты успешно обработаны в памяти.\n"
     ]
    }
   ],
   "source": [
    "# Путь к данным\n",
    "dataset_path = Path(\"data/ExtendedYaleB/GroupedDataBySubject\")  # Путь к данным\n",
    "\n",
    "# Считываем данные по субъектам\n",
    "subject_images = defaultdict(list)\n",
    "for subject_dir in dataset_path.iterdir():\n",
    "    if subject_dir.is_dir():\n",
    "        subject_id = subject_dir.name\n",
    "        subject_images[subject_id] = list(subject_dir.glob(\"*.png\"))\n",
    "\n",
    "# Проверка на наличие данных\n",
    "if not subject_images:\n",
    "    raise ValueError(\"Данные для субъектов не найдены!\")\n",
    "\n",
    "# Функция для разбиения данных на train/test\n",
    "def split_data_in_memory(subject_images, experiment_id, train_ratio=0.8):\n",
    "    \"\"\"\n",
    "    Делит данные для каждого субъекта на тренировочный и тестовый наборы.\n",
    "    Результаты возвращаются в виде словаря в памяти.\n",
    "    \"\"\"\n",
    "    train_data = defaultdict(list)\n",
    "    test_data = defaultdict(list)\n",
    "\n",
    "    for subject, images in subject_images.items():\n",
    "        # Разделение на train и test\n",
    "        train_images, test_images = train_test_split(\n",
    "            images, test_size=np.round(1-train_ratio, 1), random_state=experiment_id\n",
    "        )\n",
    "        train_data[subject].extend(train_images)\n",
    "        test_data[subject].extend(test_images)\n",
    "\n",
    "    return train_data, test_data\n",
    "\n",
    "# Проведение 20 экспериментов с разными random_state\n",
    "experiments_data = {}  # Хранение результатов всех экспериментов\n",
    "for experiment_id in range(1, 21):\n",
    "    train_data, test_data = split_data_in_memory(subject_images, experiment_id)\n",
    "    experiments_data[experiment_id] = {\"train\": train_data, \"test\": test_data}\n",
    "\n",
    "print(\"Все эксперименты успешно обработаны в памяти.\")"
   ]
  },
  {
   "cell_type": "code",
   "execution_count": 6,
   "metadata": {},
   "outputs": [
    {
     "name": "stdout",
     "output_type": "stream",
     "text": [
      "Subject: Subject_12, Train images: 48\n",
      "Subject: Subject_15, Train images: 51\n",
      "Subject: Subject_23, Train images: 52\n",
      "Subject: Subject_24, Train images: 52\n",
      "Subject: Subject_25, Train images: 52\n",
      "Subject: Subject_22, Train images: 52\n",
      "Subject: Subject_13, Train images: 48\n",
      "Subject: Subject_31, Train images: 52\n",
      "Subject: Subject_36, Train images: 52\n",
      "Subject: Subject_09, Train images: 52\n",
      "Subject: Subject_07, Train images: 52\n",
      "Subject: Subject_38, Train images: 52\n",
      "Subject: Subject_06, Train images: 52\n",
      "Subject: Subject_39, Train images: 52\n",
      "Subject: Subject_01, Train images: 52\n",
      "Subject: Subject_37, Train images: 52\n",
      "Subject: Subject_08, Train images: 52\n",
      "Subject: Subject_30, Train images: 52\n",
      "Subject: Subject_29, Train images: 52\n",
      "Subject: Subject_16, Train images: 50\n",
      "Subject: Subject_11, Train images: 48\n",
      "Subject: Subject_18, Train images: 51\n",
      "Subject: Subject_27, Train images: 52\n",
      "Subject: Subject_20, Train images: 52\n",
      "Subject: Subject_21, Train images: 52\n",
      "Subject: Subject_19, Train images: 52\n",
      "Subject: Subject_26, Train images: 52\n",
      "Subject: Subject_10, Train images: 52\n",
      "Subject: Subject_28, Train images: 52\n",
      "Subject: Subject_17, Train images: 51\n",
      "Subject: Subject_35, Train images: 52\n",
      "Subject: Subject_32, Train images: 52\n",
      "Subject: Subject_04, Train images: 52\n",
      "Subject: Subject_03, Train images: 52\n",
      "Subject: Subject_02, Train images: 52\n",
      "Subject: Subject_05, Train images: 52\n",
      "Subject: Subject_33, Train images: 52\n",
      "Subject: Subject_34, Train images: 52\n",
      "Subject: Subject_12, Test images: 12\n",
      "Subject: Subject_15, Test images: 13\n",
      "Subject: Subject_23, Test images: 13\n",
      "Subject: Subject_24, Test images: 13\n",
      "Subject: Subject_25, Test images: 13\n",
      "Subject: Subject_22, Test images: 13\n",
      "Subject: Subject_13, Test images: 13\n",
      "Subject: Subject_31, Test images: 13\n",
      "Subject: Subject_36, Test images: 13\n",
      "Subject: Subject_09, Test images: 13\n",
      "Subject: Subject_07, Test images: 13\n",
      "Subject: Subject_38, Test images: 13\n",
      "Subject: Subject_06, Test images: 13\n",
      "Subject: Subject_39, Test images: 13\n",
      "Subject: Subject_01, Test images: 13\n",
      "Subject: Subject_37, Test images: 13\n",
      "Subject: Subject_08, Test images: 13\n",
      "Subject: Subject_30, Test images: 13\n",
      "Subject: Subject_29, Test images: 13\n",
      "Subject: Subject_16, Test images: 13\n",
      "Subject: Subject_11, Test images: 13\n",
      "Subject: Subject_18, Test images: 13\n",
      "Subject: Subject_27, Test images: 13\n",
      "Subject: Subject_20, Test images: 13\n",
      "Subject: Subject_21, Test images: 13\n",
      "Subject: Subject_19, Test images: 13\n",
      "Subject: Subject_26, Test images: 13\n",
      "Subject: Subject_10, Test images: 13\n",
      "Subject: Subject_28, Test images: 13\n",
      "Subject: Subject_17, Test images: 13\n",
      "Subject: Subject_35, Test images: 13\n",
      "Subject: Subject_32, Test images: 13\n",
      "Subject: Subject_04, Test images: 13\n",
      "Subject: Subject_03, Test images: 13\n",
      "Subject: Subject_02, Test images: 13\n",
      "Subject: Subject_05, Test images: 13\n",
      "Subject: Subject_33, Test images: 13\n",
      "Subject: Subject_34, Test images: 13\n",
      "Размер изображения: (42, 48)\n"
     ]
    }
   ],
   "source": [
    "# Обработка первого эксперимента\n",
    "train_data = experiments_data[1][\"train\"]\n",
    "test_data = experiments_data[1][\"test\"]\n",
    "\n",
    "# Пример: подсчет количества изображений для каждого субъекта\n",
    "for subject, images in train_data.items():\n",
    "    print(f\"Subject: {subject}, Train images: {len(images)}\")\n",
    "\n",
    "for subject, images in test_data.items():\n",
    "    print(f\"Subject: {subject}, Test images: {len(images)}\")\n",
    "\n",
    "# Пример: загрузка первого изображения для обработки\n",
    "example_image_path = list(train_data[\"Subject_01\"])[0]  # Получаем путь к изображению\n",
    "with Image.open(example_image_path) as img:\n",
    "    img_array = np.array(img)  # Преобразуем в numpy массив\n",
    "    print(\"Размер изображения:\", img_array.shape)"
   ]
  },
  {
   "cell_type": "code",
   "execution_count": 7,
   "metadata": {},
   "outputs": [
    {
     "name": "stdout",
     "output_type": "stream",
     "text": [
      "Subject Subject_12 tensor shape: (42, 48, 48)\n",
      "Subject Subject_15 tensor shape: (42, 48, 51)\n",
      "Subject Subject_23 tensor shape: (42, 48, 52)\n",
      "Subject Subject_24 tensor shape: (42, 48, 52)\n",
      "Subject Subject_25 tensor shape: (42, 48, 52)\n",
      "Subject Subject_22 tensor shape: (42, 48, 52)\n",
      "Subject Subject_13 tensor shape: (42, 48, 48)\n",
      "Subject Subject_31 tensor shape: (42, 48, 52)\n",
      "Subject Subject_36 tensor shape: (42, 48, 52)\n",
      "Subject Subject_09 tensor shape: (42, 48, 52)\n",
      "Subject Subject_07 tensor shape: (42, 48, 52)\n",
      "Subject Subject_38 tensor shape: (42, 48, 52)\n",
      "Subject Subject_06 tensor shape: (42, 48, 52)\n",
      "Subject Subject_39 tensor shape: (42, 48, 52)\n",
      "Subject Subject_01 tensor shape: (42, 48, 52)\n",
      "Subject Subject_37 tensor shape: (42, 48, 52)\n",
      "Subject Subject_08 tensor shape: (42, 48, 52)\n",
      "Subject Subject_30 tensor shape: (42, 48, 52)\n",
      "Subject Subject_29 tensor shape: (42, 48, 52)\n",
      "Subject Subject_16 tensor shape: (42, 48, 50)\n",
      "Subject Subject_11 tensor shape: (42, 48, 48)\n",
      "Subject Subject_18 tensor shape: (42, 48, 51)\n",
      "Subject Subject_27 tensor shape: (42, 48, 52)\n",
      "Subject Subject_20 tensor shape: (42, 48, 52)\n",
      "Subject Subject_21 tensor shape: (42, 48, 52)\n",
      "Subject Subject_19 tensor shape: (42, 48, 52)\n",
      "Subject Subject_26 tensor shape: (42, 48, 52)\n",
      "Subject Subject_10 tensor shape: (42, 48, 52)\n",
      "Subject Subject_28 tensor shape: (42, 48, 52)\n",
      "Subject Subject_17 tensor shape: (42, 48, 51)\n",
      "Subject Subject_35 tensor shape: (42, 48, 52)\n",
      "Subject Subject_32 tensor shape: (42, 48, 52)\n",
      "Subject Subject_04 tensor shape: (42, 48, 52)\n",
      "Subject Subject_03 tensor shape: (42, 48, 52)\n",
      "Subject Subject_02 tensor shape: (42, 48, 52)\n",
      "Subject Subject_05 tensor shape: (42, 48, 52)\n",
      "Subject Subject_33 tensor shape: (42, 48, 52)\n",
      "Subject Subject_34 tensor shape: (42, 48, 52)\n",
      "Минимальное количество изображений: 48\n"
     ]
    }
   ],
   "source": [
    "def load_images_as_tensor(subject_images):\n",
    "    \"\"\"\n",
    "    Загружает изображения для заданного субъекта и преобразует их в тензор float.\n",
    "    \"\"\"\n",
    "    images = []\n",
    "    for img_path in subject_images:\n",
    "        with Image.open(img_path) as img:\n",
    "            img_array = np.array(img.convert(\"L\"), dtype=np.float32)  # Перевод в grayscale и float\n",
    "            img_array /= 255.0  # Нормализация в диапазон [0, 1]\n",
    "            images.append(img_array)\n",
    "    return np.stack(images, axis=-1)  # Создаем тензор (H, W, T)\n",
    "\n",
    "\n",
    "\n",
    "\n",
    "# Создаем словарь для хранения тензоров по субъектам\n",
    "tensors_by_subject = {}\n",
    "\n",
    "# Загружаем изображения для всех субъектов и создаем тензоры\n",
    "for subject in train_data:\n",
    "    tensor = load_images_as_tensor(train_data[subject])\n",
    "    tensors_by_subject[subject] = tensor\n",
    "    print(f\"Subject {subject} tensor shape: {tensor.shape}\")\n",
    "\n",
    "# Проверяем минимальное количество изображений у субъектов\n",
    "num_images = {subject: tensor.shape[-1] for subject, tensor in tensors_by_subject.items()}\n",
    "min_images = min(num_images.values())\n",
    "print(f\"Минимальное количество изображений: {min_images}\")"
   ]
  },
  {
   "cell_type": "markdown",
   "metadata": {},
   "source": [
    "# TBMD algorithm"
   ]
  },
  {
   "cell_type": "markdown",
   "metadata": {},
   "source": [
    "## 3rd-order Tensor HOSVD Algorithm"
   ]
  },
  {
   "cell_type": "code",
   "execution_count": 8,
   "metadata": {},
   "outputs": [],
   "source": [
    "# Создаем случайный 3D-тензор размером 10x10x10\n",
    "tensor = tensors_by_subject['Subject_34']\n",
    "\n",
    "# Инициализируем объект TuckerDecomposer с заданными ранками\n",
    "decomposer = TuckerDecomposer(tensor, random_state=SEED)\n",
    "\n",
    "# Выполняем декомпозицию\n",
    "decomposer.decompose()\n",
    "\n",
    "cores = decomposer.get_cores()\n",
    "\n",
    "factors = decomposer.get_factors()"
   ]
  },
  {
   "cell_type": "markdown",
   "metadata": {},
   "source": [
    "## The joint modal tensor 𝐴"
   ]
  },
  {
   "cell_type": "code",
   "execution_count": 9,
   "metadata": {},
   "outputs": [
    {
     "name": "stdout",
     "output_type": "stream",
     "text": [
      "Single subject: Размер тензора временно-нечувствительных мод: (42, 48, 42)\n",
      "Final stacked tensor shape (A): (42, 48, 42)\n"
     ]
    }
   ],
   "source": [
    "# Универсальный словарь для хранения временно-нечувствительных модальных тензоров\n",
    "M_tensors = {}\n",
    "\n",
    "# Проверяем, является ли cores словарем или numpy array\n",
    "if isinstance(cores, dict):\n",
    "    # Если cores - словарь, работаем по всем субъектам\n",
    "    for subject in cores.keys():\n",
    "        # Получаем ядро и матрицы факторов для текущего субъекта\n",
    "        core = cores[subject]\n",
    "        factor = factors[subject]\n",
    "        \n",
    "        # Извлечение матриц факторов\n",
    "        A_hat, B_hat, C_hat = factor\n",
    "        R = core.shape[2]  # Число временных мод (ранг по третьему измерению)\n",
    "        \n",
    "        # Список для хранения модальных матриц\n",
    "        M_list = []\n",
    "        \n",
    "        for n in range(R):\n",
    "            # Срез ядра по третьему измерению\n",
    "            G_slice = core[:, :, n]\n",
    "            \n",
    "            # Вычисление модальной матрицы M_n\n",
    "            M_n = A_hat @ G_slice @ B_hat.T\n",
    "            \n",
    "            # Добавление модальной матрицы в список\n",
    "            M_list.append(M_n)\n",
    "        \n",
    "        # Формирование финального тензора\n",
    "        modal_tensor = np.stack(M_list, axis=-1)  # Размерность (I, J, R)\n",
    "        \n",
    "        # Сохранение тензора для текущего субъекта\n",
    "        M_tensors[subject] = modal_tensor\n",
    "        \n",
    "        # Вывод размера тензора\n",
    "        print(f\"Subject {subject}: Размер тензора временно-нечувствительных мод: {modal_tensor.shape}\")\n",
    "\n",
    "else:\n",
    "    # Если cores - numpy array, работаем с одним тензором\n",
    "    core = cores\n",
    "    factor = factors  # factors будет списком [A_hat, B_hat, C_hat]\n",
    "    \n",
    "    # Извлечение матриц факторов\n",
    "    A_hat, B_hat, C_hat = factor\n",
    "    R = core.shape[2]  # Число временных мод (ранг по третьему измерению)\n",
    "    \n",
    "    # Список для хранения модальных матриц\n",
    "    M_list = []\n",
    "    \n",
    "    for n in range(R):\n",
    "        # Срез ядра по третьему измерению\n",
    "        G_slice = core[:, :, n]\n",
    "        \n",
    "        # Вычисление модальной матрицы M_n\n",
    "        M_n = A_hat @ G_slice @ B_hat.T\n",
    "        \n",
    "        # Добавление модальной матрицы в список\n",
    "        M_list.append(M_n)\n",
    "    \n",
    "    # Формирование финального тензора\n",
    "    modal_tensor = np.stack(M_list, axis=-1)  # Размерность (I, J, R)\n",
    "    \n",
    "    # Сохранение тензора для единственного субъекта\n",
    "    M_tensors[\"single_subject\"] = modal_tensor\n",
    "    \n",
    "    # Вывод размера тензора\n",
    "    print(f\"Single subject: Размер тензора временно-нечувствительных мод: {modal_tensor.shape}\")\n",
    "\n",
    "# Объединяем все моды вдоль третьего измерения для создания A_tensor\n",
    "all_modes = []\n",
    "\n",
    "# Итерация по всем субъектам (или единственному субъекту)\n",
    "for subject, modal_tensor in M_tensors.items():\n",
    "    # Извлекаем размерности\n",
    "    I, J, R = modal_tensor.shape\n",
    "    for r in range(R):\n",
    "        # Добавляем каждую моду в список\n",
    "        all_modes.append(modal_tensor[:, :, r])  # Размерность (I, J)\n",
    "\n",
    "# Объединяем все моды вдоль третьего измерения\n",
    "A_tensor = tl.tensor(np.stack(all_modes, axis=-1))  # Размерность (I, J, W), где W = сумма всех R\n",
    "\n",
    "# Проверяем размерность результирующего тензора\n",
    "print(f\"Final stacked tensor shape (A): {A_tensor.shape}\")\n"
   ]
  },
  {
   "cell_type": "markdown",
   "metadata": {},
   "source": [
    "## Tensor-based tube fiber-pivot QR Factorization"
   ]
  },
  {
   "cell_type": "code",
   "execution_count": 10,
   "metadata": {},
   "outputs": [
    {
     "data": {
      "image/png": "[encoded data removed]",
      "text/plain": [
       "<Figure size 480x420 with 1 Axes>"
      ]
     },
     "metadata": {},
     "output_type": "display_data"
    }
   ],
   "source": [
    "N = 42\n",
    "\n",
    "tube_qr_dexomposition = TensorTubeQRDecomposition(A_tensor, N)\n",
    "\n",
    "P, Q, R = tube_qr_dexomposition.factorize()\n",
    "\n",
    "tube_qr_dexomposition.visualize_sensor_placement()"
   ]
  },
  {
   "cell_type": "code",
   "execution_count": 11,
   "metadata": {},
   "outputs": [
    {
     "name": "stdout",
     "output_type": "stream",
     "text": [
      "\n",
      "Норма (Q^T Q - I): 2.037817262509101e-06\n"
     ]
    }
   ],
   "source": [
    "# Проверка ортогональности Q\n",
    "Q_T_Q = Q.T @ Q\n",
    "identity = np.eye(Q.shape[1])\n",
    "difference = np.linalg.norm(Q_T_Q - identity)\n",
    "\n",
    "print(f\"\\nНорма (Q^T Q - I): {difference}\")"
   ]
  },
  {
   "cell_type": "markdown",
   "metadata": {},
   "source": [
    "## Sparse measurements matrix Y"
   ]
  },
  {
   "cell_type": "code",
   "execution_count": 12,
   "metadata": {},
   "outputs": [],
   "source": [
    "# Загрузка тестовых изображений для конкретного субъекта\n",
    "test_images = load_images_as_tensor(test_data['Subject_34'])\n",
    "\n",
    "X = test_images[:, :, 1]  # Берем i-е тестовое изображение\n",
    "\n",
    "# Симуляция измерений\n",
    "Y = P * X  # Поэлементное умножение"
   ]
  },
  {
   "cell_type": "code",
   "execution_count": 19,
   "metadata": {},
   "outputs": [
    {
     "data": {
      "image/png": "[encoded data removed]",
      "text/plain": [
       "<Figure size 1200x600 with 2 Axes>"
      ]
     },
     "metadata": {},
     "output_type": "display_data"
    }
   ],
   "source": [
    "# Создание объединенного графика\n",
    "fig, axes = plt.subplots(1, 2, figsize=(12, 6))  # 1 строка, 2 столбца для графиков\n",
    "\n",
    "# График для матрицы X\n",
    "axes[0].imshow(X, cmap='gray')\n",
    "axes[0].set_title('Matrix X')\n",
    "axes[0].set_xlabel('Column Index')\n",
    "axes[0].set_ylabel('Row Index')\n",
    "\n",
    "# График для матрицы Y\n",
    "axes[1].imshow(Y, cmap='gray')\n",
    "axes[1].set_title('Matrix Y')\n",
    "axes[1].set_xlabel('Column Index')\n",
    "axes[1].set_ylabel('Row Index')\n",
    "\n",
    "# Настройка общего пространства между графиками\n",
    "plt.tight_layout()\n",
    "\n",
    "# Показ объединенного графика\n",
    "plt.show()"
   ]
  },
  {
   "cell_type": "markdown",
   "metadata": {},
   "source": [
    "## Tensor-based Compressive Sensing Algorithm"
   ]
  },
  {
   "cell_type": "code",
   "execution_count": 14,
   "metadata": {},
   "outputs": [],
   "source": [
    "# Hyperparameters\n",
    "max_iter = 100\n",
    "epsilon_cs = 1e-2\n",
    "lambda_ = 0.95\n",
    "delta_0 = 0.01\n",
    "delta_max = 0.01\n",
    "\n",
    "# Use the class\n",
    "cs_solver = TensorCompressiveSensing(A_tensor, P, Y, max_iter, epsilon_cs, lambda_, delta_0, delta_max)\n",
    "x_hat = cs_solver.solve()"
   ]
  },
  {
   "cell_type": "markdown",
   "metadata": {},
   "source": [
    "# Reconstruct the field matrix X"
   ]
  },
  {
   "cell_type": "code",
   "execution_count": 15,
   "metadata": {},
   "outputs": [],
   "source": [
    "# Восстанавливаем тензорное поле\n",
    "# x_hat должен быть размерности (R,)\n",
    "X_reconstructed = tl.tenalg.mode_dot(A_tensor, x_hat.squeeze(), mode=2)  # Применяем x_hat по третьему измерению\n",
    "\n",
    "# X_reconstructed будет тензором размерности (I, J)"
   ]
  },
  {
   "cell_type": "code",
   "execution_count": 16,
   "metadata": {},
   "outputs": [
    {
     "data": {
      "image/png": "[encoded data removed]",
      "text/plain": [
       "<Figure size 640x480 with 1 Axes>"
      ]
     },
     "metadata": {},
     "output_type": "display_data"
    }
   ],
   "source": [
    "# Plot the reconstructed matrix\n",
    "plt.imshow(X_reconstructed, cmap='gray')\n",
    "plt.xlabel('Column Index')\n",
    "plt.ylabel('Row Index')\n",
    "plt.title('Reconstructed Matrix X')\n",
    "plt.show()"
   ]
  },
  {
   "cell_type": "code",
   "execution_count": 17,
   "metadata": {},
   "outputs": [
    {
     "name": "stdout",
     "output_type": "stream",
     "text": [
      "Ошибка восстановления для тестового изображения: 0.10504920112275615\n"
     ]
    }
   ],
   "source": [
    "error = tl.norm(X - X_reconstructed) / tl.norm(X)\n",
    "print(f\"Ошибка восстановления для тестового изображения: {error}\")"
   ]
  }
 ],
 "metadata": {
  "kernelspec": {
   "display_name": ".venv",
   "language": "python",
   "name": "python3"
  },
  "language_info": {
   "codemirror_mode": {
    "name": "ipython",
    "version": 3
   },
   "file_extension": ".py",
   "mimetype": "text/x-python",
   "name": "python",
   "nbconvert_exporter": "python",
   "pygments_lexer": "ipython3",
   "version": "3.12.5"
  }
 },
 "nbformat": 4,
 "nbformat_minor": 2
}
