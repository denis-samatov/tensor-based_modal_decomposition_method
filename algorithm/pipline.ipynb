{
 "cells": [
  {
   "cell_type": "markdown",
   "metadata": {},
   "source": [
    "# Download packages"
   ]
  },
  {
   "cell_type": "code",
   "execution_count": 1,
   "metadata": {},
   "outputs": [
    {
     "name": "stdout",
     "output_type": "stream",
     "text": [
      "Collecting tensorly\n",
      "  Downloading tensorly-0.8.1-py3-none-any.whl.metadata (8.6 kB)\n",
      "Collecting torch\n",
      "  Using cached torch-2.5.1-cp312-none-macosx_11_0_arm64.whl.metadata (28 kB)\n",
      "Collecting numpy (from tensorly)\n",
      "  Using cached numpy-2.1.3-cp312-cp312-macosx_14_0_arm64.whl.metadata (62 kB)\n",
      "Collecting scipy (from tensorly)\n",
      "  Using cached scipy-1.14.1-cp312-cp312-macosx_14_0_arm64.whl.metadata (60 kB)\n",
      "Collecting filelock (from torch)\n",
      "  Using cached filelock-3.16.1-py3-none-any.whl.metadata (2.9 kB)\n",
      "Collecting typing-extensions>=4.8.0 (from torch)\n",
      "  Using cached typing_extensions-4.12.2-py3-none-any.whl.metadata (3.0 kB)\n",
      "Collecting networkx (from torch)\n",
      "  Using cached networkx-3.4.2-py3-none-any.whl.metadata (6.3 kB)\n",
      "Collecting jinja2 (from torch)\n",
      "  Using cached jinja2-3.1.4-py3-none-any.whl.metadata (2.6 kB)\n",
      "Collecting fsspec (from torch)\n",
      "  Using cached fsspec-2024.10.0-py3-none-any.whl.metadata (11 kB)\n",
      "Collecting setuptools (from torch)\n",
      "  Using cached setuptools-75.3.0-py3-none-any.whl.metadata (6.9 kB)\n",
      "Collecting sympy==1.13.1 (from torch)\n",
      "  Using cached sympy-1.13.1-py3-none-any.whl.metadata (12 kB)\n",
      "Collecting mpmath<1.4,>=1.1.0 (from sympy==1.13.1->torch)\n",
      "  Using cached mpmath-1.3.0-py3-none-any.whl.metadata (8.6 kB)\n",
      "Collecting MarkupSafe>=2.0 (from jinja2->torch)\n",
      "  Using cached MarkupSafe-3.0.2-cp312-cp312-macosx_11_0_arm64.whl.metadata (4.0 kB)\n",
      "Downloading tensorly-0.8.1-py3-none-any.whl (229 kB)\n",
      "Using cached torch-2.5.1-cp312-none-macosx_11_0_arm64.whl (63.9 MB)\n",
      "Using cached sympy-1.13.1-py3-none-any.whl (6.2 MB)\n",
      "Using cached typing_extensions-4.12.2-py3-none-any.whl (37 kB)\n",
      "Using cached filelock-3.16.1-py3-none-any.whl (16 kB)\n",
      "Using cached fsspec-2024.10.0-py3-none-any.whl (179 kB)\n",
      "Using cached jinja2-3.1.4-py3-none-any.whl (133 kB)\n",
      "Using cached networkx-3.4.2-py3-none-any.whl (1.7 MB)\n",
      "Using cached numpy-2.1.3-cp312-cp312-macosx_14_0_arm64.whl (5.1 MB)\n",
      "Using cached scipy-1.14.1-cp312-cp312-macosx_14_0_arm64.whl (23.1 MB)\n",
      "Using cached setuptools-75.3.0-py3-none-any.whl (1.3 MB)\n",
      "Using cached MarkupSafe-3.0.2-cp312-cp312-macosx_11_0_arm64.whl (12 kB)\n",
      "Using cached mpmath-1.3.0-py3-none-any.whl (536 kB)\n",
      "Installing collected packages: mpmath, typing-extensions, sympy, setuptools, numpy, networkx, MarkupSafe, fsspec, filelock, scipy, jinja2, torch, tensorly\n",
      "Successfully installed MarkupSafe-3.0.2 filelock-3.16.1 fsspec-2024.10.0 jinja2-3.1.4 mpmath-1.3.0 networkx-3.4.2 numpy-2.1.3 scipy-1.14.1 setuptools-75.3.0 sympy-1.13.1 tensorly-0.8.1 torch-2.5.1 typing-extensions-4.12.2\n",
      "\n",
      "\u001b[1m[\u001b[0m\u001b[34;49mnotice\u001b[0m\u001b[1;39;49m]\u001b[0m\u001b[39;49m A new release of pip is available: \u001b[0m\u001b[31;49m24.2\u001b[0m\u001b[39;49m -> \u001b[0m\u001b[32;49m24.3.1\u001b[0m\n",
      "\u001b[1m[\u001b[0m\u001b[34;49mnotice\u001b[0m\u001b[1;39;49m]\u001b[0m\u001b[39;49m To update, run: \u001b[0m\u001b[32;49mpip install --upgrade pip\u001b[0m\n",
      "Note: you may need to restart the kernel to use updated packages.\n"
     ]
    }
   ],
   "source": [
    "%pip install -U tensorly torch"
   ]
  },
  {
   "cell_type": "markdown",
   "metadata": {},
   "source": [
    "# Import libraries"
   ]
  },
  {
   "cell_type": "code",
   "execution_count": 15,
   "metadata": {},
   "outputs": [],
   "source": [
    "import numpy as np\n",
    "import tensorly as tl\n",
    "\n",
    "from tensorly.decomposition import tucker\n",
    "from tensorly import tenalg\n",
    "from tensorly.tenalg import mode_dot\n",
    "from typing import Set, Tuple"
   ]
  },
  {
   "cell_type": "code",
   "execution_count": 3,
   "metadata": {},
   "outputs": [],
   "source": [
    "tl.set_backend('numpy')"
   ]
  },
  {
   "cell_type": "code",
   "execution_count": 4,
   "metadata": {},
   "outputs": [],
   "source": [
    "SEED = 42\n",
    "\n",
    "tl.check_random_state(SEED)\n",
    "np.random.seed(SEED)"
   ]
  },
  {
   "cell_type": "markdown",
   "metadata": {},
   "source": [
    "# Data"
   ]
  },
  {
   "cell_type": "code",
   "execution_count": null,
   "metadata": {},
   "outputs": [],
   "source": [
    "# Параметры\n",
    "I, J, K = 5, 5, 5\n",
    "D = 3  # Количество наборов данных\n",
    "EPSILON = 1e-5\n",
    "\n",
    "# Генерируем D тензоров данных\n",
    "X_tensor = np.random.rand(I, J, K)"
   ]
  },
  {
   "cell_type": "markdown",
   "metadata": {},
   "source": [
    "# Applying TBMD to each tensor"
   ]
  },
  {
   "cell_type": "markdown",
   "metadata": {},
   "source": [
    "Применяем тензорное модальное разложение (TBMD), в данном случае Tucker разложение, к каждому тензору, получая модальные тензоры 𝑀1, 𝑀2, …, 𝑀𝐷."
   ]
  },
  {
   "cell_type": "code",
   "execution_count": 41,
   "metadata": {},
   "outputs": [],
   "source": [
    "ranks = [min(I, J, K) for _ in range(3)]\n",
    "\n",
    "G_hat, factors = tucker(X_tensor, rank=ranks, tol=EPSILON, random_state=SEED)"
   ]
  },
  {
   "cell_type": "markdown",
   "metadata": {},
   "source": [
    "# Construction of the joint modal tensor 𝐴\n"
   ]
  },
  {
   "cell_type": "markdown",
   "metadata": {},
   "source": [
    "Стекуем модальные тензоры 𝑀1, 𝑀2, …, 𝑀𝐷 по третьему измерению (или создаем объединенный тензор), получая тензор 𝐴."
   ]
  },
  {
   "cell_type": "code",
   "execution_count": 42,
   "metadata": {},
   "outputs": [],
   "source": [
    "# Предполагаем, что вы уже извлекли A_hat и B_hat из factors\n",
    "A_hat, B_hat, C_hat = factors"
   ]
  },
  {
   "cell_type": "code",
   "execution_count": 43,
   "metadata": {},
   "outputs": [],
   "source": [
    "M_list = []\n",
    "for n in range(G_hat.shape[2]):\n",
    "    G_slice = G_hat[:, :, n]  # Срез ядра по третьему измерению\n",
    "    M_n = A_hat @ G_slice @ B_hat.T  # Матрица размера (I x J)\n",
    "    M_list.append(M_n)"
   ]
  },
  {
   "cell_type": "code",
   "execution_count": 45,
   "metadata": {},
   "outputs": [],
   "source": [
    "# Собираем модальные матрицы в тензор A\n",
    "A_tensor = np.stack(M_list, axis=-1)  # Размерность будет (I, J, R), где R — число мод (ранг по третьему измерению)"
   ]
  },
  {
   "cell_type": "markdown",
   "metadata": {},
   "source": [
    "# Применение тензорного QR-разложения для оптимального размещения сенсоров"
   ]
  },
  {
   "cell_type": "markdown",
   "metadata": {},
   "source": [
    "Теперь нам нужно применить тензорное QR-разложение к тензору 𝐴 для получения матрицы перестановок 𝑃, которая будет использоваться для оптимального размещения сенсоров."
   ]
  },
  {
   "cell_type": "code",
   "execution_count": 62,
   "metadata": {},
   "outputs": [],
   "source": [
    "def tensor_based_tube_fiber_pivot_qr_factorization(R: tl.tensor, N: int) -> Tuple[tl.tensor, tl.tensor, tl.tensor]:\n",
    "    \"\"\"\n",
    "    Implements the Tensor-based Tube Fiber-pivot QR Factorization.\n",
    "\n",
    "    Parameters:\n",
    "    - R: Input 3D tensor of shape (n1 x n2 x m), where n1 and n2 are dimensions of the matrix,\n",
    "         and m is the size of each tube (depth).\n",
    "    - N: Number of iterations for the factorization.\n",
    "    - A: Set of already used indices (to avoid repetition in the pivot).\n",
    "    - P: Output permutation matrix (n1 x n2) for selecting sensors or fibers.\n",
    "    - Q: Orthogonal matrix to be updated (m x m).\n",
    "    - M: Matrix to store the ℓ1-norms (n1 x n2) of the tubes from tensor R.\n",
    "\n",
    "    Returns:\n",
    "    - P: Updated permutation matrix with selected sensor placements.\n",
    "    - Q: Updated orthogonal matrix after each iteration.\n",
    "    - R: Updated tensor after applying Householder transformations.\n",
    "    \"\"\"\n",
    "\n",
    "    n1, n2, m = R.shape\n",
    "    P = np.zeros((n1, n2))  # Размерности матрицы P\n",
    "    Q = np.eye(m)  # Предполагаем, что третья размерность соответствует времени или другому измерению\n",
    "    M = np.zeros((n1, n2))\n",
    "    A_set = set()\n",
    "\n",
    "\n",
    "    for d in range(N):\n",
    "        # Compute tubular ℓ1-norms and fill matrix M\n",
    "        for i in range(n1):\n",
    "            for j in range(n2):\n",
    "                tube = R[i, j, :]\n",
    "                M[i, j] = tl.norm(tube, 1)  # Using ℓ1-norm\n",
    "\n",
    "        # Find the maximum element in M that has not been used\n",
    "        while True:\n",
    "            max_index = tl.argmax(M)\n",
    "            max_index = int(max_index)\n",
    "            x, y = divmod(max_index, n2)\n",
    "            if (x, y) not in A_set:\n",
    "                break\n",
    "            else:\n",
    "                M[x, y] = 0  # Zero out the element to avoid reusing it\n",
    "\n",
    "        A_set.add((x, y))\n",
    "        P[x, y] = 1  # Set the corresponding element in P to 1\n",
    "\n",
    "        # Extract vector t from tensor R\n",
    "        t = R[x, y, d:]\n",
    "\n",
    "        # Compute sigma and vector u\n",
    "        sigma = tl.norm(t, 2)\n",
    "        if sigma == 0:\n",
    "            u = tl.zeros_like(t)\n",
    "        else:\n",
    "            e_d = tl.zeros_like(t)\n",
    "            e_d[0] = 1  # Position 0 corresponds to position d in Python\n",
    "            t1 = t[0]\n",
    "            sign_t1 = tl.sign(t1) if t1 != 0 else 1\n",
    "            numerator = t + sign_t1 * sigma * e_d\n",
    "            denominator = tl.sqrt(2 * sigma * (sigma + tl.abs(t1)))\n",
    "            u = numerator / denominator\n",
    "\n",
    "        # Update R for slice x, y, d:m\n",
    "        R_slice = R[x, y, d:]\n",
    "        R[x, y, d:] = R_slice - 2 * u * tl.dot(u, R_slice)\n",
    "\n",
    "        # Update Q matrix\n",
    "        u_Q = u.reshape(-1, 1)  # Reshape u to (m - d, 1)\n",
    "        Q_d = Q[:, d:]  # Get submatrix of Q from column d onwards\n",
    "        Q[:, d:] = Q_d - 2 * Q_d @ (u_Q @ u_Q.T)  # Update Q\n",
    "\n",
    "    # Return the updated P, Q, and R matrices\n",
    "    return P, Q, R"
   ]
  },
  {
   "cell_type": "code",
   "execution_count": 63,
   "metadata": {},
   "outputs": [],
   "source": [
    "# def tensor_based_tube_fiber_pivot_qr_factorization(R, N):\n",
    "#     n1, n2, m = R.shape\n",
    "#     P = np.zeros((n1, n2))\n",
    "#     Q = np.eye(m)\n",
    "#     M = np.zeros((n1, n2))\n",
    "#     A_set = set()\n",
    "    \n",
    "#     for d in range(N):\n",
    "#         # Вычисляем ℓ1-нормы трубок\n",
    "#         for i in range(n1):\n",
    "#             for j in range(n2):\n",
    "#                 tube = R[i, j, d:]\n",
    "#                 M[i, j] = np.linalg.norm(tube, 1)\n",
    "                \n",
    "#         # Находим максимальную норму\n",
    "#         while True:\n",
    "#             max_index = np.argmax(M)\n",
    "#             x, y = divmod(max_index, n2)\n",
    "#             if (x, y) not in A_set:\n",
    "#                 break\n",
    "#             else:\n",
    "#                 M[x, y] = 0\n",
    "        \n",
    "#         A_set.add((x, y))\n",
    "#         P[x, y] = 1\n",
    "        \n",
    "#         # Обновляем R и Q\n",
    "#         t = R[x, y, d:]\n",
    "#         sigma = np.linalg.norm(t)\n",
    "#         if sigma == 0:\n",
    "#             u = np.zeros_like(t)\n",
    "#         else:\n",
    "#             e_d = np.zeros_like(t)\n",
    "#             e_d[0] = 1\n",
    "#             sign_t1 = np.sign(t[0]) if t[0] != 0 else 1\n",
    "#             u = (t + sign_t1 * sigma * e_d) / np.sqrt(2 * sigma * (sigma + abs(t[0])))\n",
    "        \n",
    "#         # Обновляем R\n",
    "#         R_slice = R[:, :, d:]\n",
    "#         R[:, :, d:] = R_slice - 2 * np.tensordot(u, np.tensordot(u, R_slice, axes=([0], [2])), axes=([0], [0]))\n",
    "        \n",
    "#         # Обновляем Q\n",
    "#         u_Q = u.reshape(-1, 1)\n",
    "#         Q_d = Q[:, d:]\n",
    "#         Q[:, d:] = Q_d - 2 * Q_d @ (u_Q @ u_Q.T)\n",
    "        \n",
    "#     return P, Q, R"
   ]
  },
  {
   "cell_type": "code",
   "execution_count": 64,
   "metadata": {},
   "outputs": [],
   "source": [
    "# Параметры для QR-разложения\n",
    "N = 5  # Задайте количество сенсоров\n",
    "\n",
    "# Применяем функцию (не забудьте адаптировать функцию под ваши данные)\n",
    "P, Q, R = tensor_based_tube_fiber_pivot_qr_factorization(A_tensor, N)"
   ]
  },
  {
   "cell_type": "code",
   "execution_count": 65,
   "metadata": {},
   "outputs": [
    {
     "name": "stdout",
     "output_type": "stream",
     "text": [
      "\n",
      "Norm of (Q^T Q - I): 7.805874596144724e-16\n"
     ]
    }
   ],
   "source": [
    "Q_T_Q = tl.dot(Q.T, Q)\n",
    "identity = tl.tensor(np.eye(A_tensor.shape[2]), dtype=tl.float32)\n",
    "difference = tl.norm(Q_T_Q - identity)\n",
    "\n",
    "\n",
    "print(f\"\\nNorm of (Q^T Q - I): {difference}\")"
   ]
  },
  {
   "cell_type": "markdown",
   "metadata": {},
   "source": [
    "# Formation of dimensions 𝑌\n"
   ]
  },
  {
   "cell_type": "markdown",
   "metadata": {},
   "source": [
    "После получения матрицы 𝑃 вы можете сформировать матрицу измерений 𝑌 из исходного тензора 𝑋."
   ]
  },
  {
   "cell_type": "code",
   "execution_count": 66,
   "metadata": {},
   "outputs": [],
   "source": [
    "# Получаем индексы выбранных сенсоров\n",
    "sensor_indices = np.argwhere(P == 1)\n",
    "\n",
    "# Формируем измерения Y\n",
    "Y = []\n",
    "for idx in sensor_indices:\n",
    "    i, j = idx\n",
    "    Y.append(X_tensor[i, j, :])  # Извлекаем временные ряды в точке (i, j)\n",
    "Y = np.array(Y)  # Размерность (N, K)"
   ]
  },
  {
   "cell_type": "markdown",
   "metadata": {},
   "source": [
    "# Tensor compression measurement"
   ]
  },
  {
   "cell_type": "markdown",
   "metadata": {},
   "source": [
    "Теперь нужно решить оптимизационную задачу для восстановления вектора весов 𝑥, используя измерения 𝑌 и тензор 𝐴."
   ]
  },
  {
   "cell_type": "markdown",
   "metadata": {},
   "source": [
    "# Field restoration 𝑋"
   ]
  },
  {
   "cell_type": "code",
   "execution_count": null,
   "metadata": {},
   "outputs": [],
   "source": []
  }
 ],
 "metadata": {
  "kernelspec": {
   "display_name": ".venv",
   "language": "python",
   "name": "python3"
  },
  "language_info": {
   "codemirror_mode": {
    "name": "ipython",
    "version": 3
   },
   "file_extension": ".py",
   "mimetype": "text/x-python",
   "name": "python",
   "nbconvert_exporter": "python",
   "pygments_lexer": "ipython3",
   "version": "3.12.5"
  }
 },
 "nbformat": 4,
 "nbformat_minor": 2
}
