{
 "cells": [
  {
   "cell_type": "markdown",
   "metadata": {},
   "source": [
    "# Download packages"
   ]
  },
  {
   "cell_type": "code",
   "execution_count": 1,
   "metadata": {},
   "outputs": [
    {
     "name": "stdout",
     "output_type": "stream",
     "text": [
      "Requirement already satisfied: tensorly in /Library/Frameworks/Python.framework/Versions/3.12/lib/python3.12/site-packages (0.8.1)\n",
      "Requirement already satisfied: numpy in /Library/Frameworks/Python.framework/Versions/3.12/lib/python3.12/site-packages (from tensorly) (1.26.4)\n",
      "Requirement already satisfied: scipy in /Library/Frameworks/Python.framework/Versions/3.12/lib/python3.12/site-packages (from tensorly) (1.13.1)\n",
      "Note: you may need to restart the kernel to use updated packages.\n"
     ]
    }
   ],
   "source": [
    "%pip install tensorly"
   ]
  },
  {
   "cell_type": "markdown",
   "metadata": {},
   "source": [
    "# Import libraries"
   ]
  },
  {
   "cell_type": "code",
   "execution_count": 2,
   "metadata": {},
   "outputs": [],
   "source": [
    "import numpy as np\n",
    "import tensorly as tl\n",
    "from tensorly.tenalg import mode_dot\n",
    "from typing import Union"
   ]
  },
  {
   "cell_type": "code",
   "execution_count": 3,
   "metadata": {},
   "outputs": [],
   "source": [
    "import numpy as np\n",
    "import tensorly as tl\n",
    "from tensorly.tenalg import mode_dot"
   ]
  },
  {
   "cell_type": "code",
   "execution_count": 4,
   "metadata": {},
   "outputs": [],
   "source": [
    "# Устанавливаем бэкэнд TensorLy на NumPy (по умолчанию)\n",
    "tl.set_backend('numpy')"
   ]
  },
  {
   "cell_type": "markdown",
   "metadata": {},
   "source": [
    "# Algoritm using article idea"
   ]
  },
  {
   "cell_type": "code",
   "execution_count": 5,
   "metadata": {},
   "outputs": [],
   "source": [
    "def tensor_based_compressive_sensing(\n",
    "    A: Union[np.ndarray, tl.tensor],\n",
    "    P: Union[np.ndarray, tl.tensor],\n",
    "    Y: Union[np.ndarray, tl.tensor],\n",
    "    max_iter: int,\n",
    "    epsilon: float,\n",
    "    lambd: float,\n",
    "    delta_0: float,\n",
    "    delta_max: float\n",
    ") -> tl.tensor:\n",
    "    \"\"\"\n",
    "    Implements the Tensor-based Compressive Sensing Algorithm (Algorithm 3).\n",
    "    \n",
    "    Parameters:\n",
    "    - A: Input tensor of shape (I x J x W) (numpy array or Tensorly tensor)\n",
    "    - P: Permutation matrix or sensor selection matrix (should be compatible for mode-0 multiplication with A)\n",
    "         (numpy array or Tensorly tensor)\n",
    "    - Y: Observed data tensor (after sensor placement) (numpy array or Tensorly tensor)\n",
    "    - max_iter: Maximum number of iterations (int)\n",
    "    - epsilon: Small positive scalar for shrinkage thresholding (float)\n",
    "    - lambd: Regularization parameter (float)\n",
    "    - delta_0: Initial value for the Lagrange penalty term (float)\n",
    "    - delta_max: Maximum value for delta (float)\n",
    "\n",
    "    Returns:\n",
    "    - x_hat: Recovered sparse code vector of shape (W x 1) (Tensorly tensor)\n",
    "    \"\"\"\n",
    "\n",
    "    # Ensure A, P, Y are tensors\n",
    "    A = tl.tensor(A, dtype=tl.float32)\n",
    "    P = tl.tensor(P, dtype=tl.float32)\n",
    "    Y = tl.tensor(Y, dtype=tl.float32)\n",
    "\n",
    "    # Get dimensions\n",
    "    I, J, W = A.shape\n",
    "\n",
    "    # Initialize variables\n",
    "    x_n = tl.zeros((W, 1), dtype=tl.float32)\n",
    "    d_n = tl.zeros((W, 1), dtype=tl.float32)\n",
    "    p_n = tl.zeros((W, 1), dtype=tl.float32)\n",
    "    delta_n = delta_0\n",
    "\n",
    "    # Preprocess A: A = P x1 A (since P is (N x I), we use mode-0 multiplication)\n",
    "    A = mode_dot(A, P, mode=0)  # A now has shape (N, J, W)\n",
    "\n",
    "    # Unfold A along mode-2 (mode-3 in MATLAB notation)\n",
    "    A_unfold = tl.unfold(A, mode=2)  # Shape: (W, N * J)\n",
    "\n",
    "    # Compute A_T_A and A_Y\n",
    "    A_T_A = A_unfold @ A_unfold.T  # Shape: (W, W)\n",
    "\n",
    "    # Reshape Y to match the dimensions\n",
    "    Y_vector = Y.reshape(-1, 1)  # Shape: (N * J, 1)\n",
    "\n",
    "    # Compute A_Y\n",
    "    A_Y = A_unfold @ Y_vector  # Shape: (W, 1)\n",
    "\n",
    "    # Start iterations\n",
    "    for n in range(1, max_iter + 1):\n",
    "        # Update x_n\n",
    "        # Solve: (A_T_A + delta_n * I) * x_n = A_Y + delta_n * (d_n - p_n)\n",
    "        left_matrix = A_T_A + delta_n * np.eye(W)\n",
    "        right_vector = A_Y + delta_n * (d_n - p_n)\n",
    "        x_n = np.linalg.solve(left_matrix, right_vector)\n",
    "\n",
    "        # Compute x_hat\n",
    "        x_hat = lambd * x_n + (1 - lambd) * d_n\n",
    "\n",
    "        # Update d_n using iterative shrinkage-thresholding\n",
    "        threshold = epsilon / delta_n\n",
    "        temp = x_hat + p_n\n",
    "        d_n = np.maximum(0, temp - threshold) - np.maximum(0, -temp - threshold)\n",
    "\n",
    "        # Update p_n\n",
    "        p_n = p_n + x_hat - d_n\n",
    "\n",
    "        # Update delta_n\n",
    "        delta_n = min(delta_n, delta_max)\n",
    "\n",
    "    return x_hat"
   ]
  },
  {
   "cell_type": "code",
   "execution_count": 9,
   "metadata": {},
   "outputs": [
    {
     "name": "stdout",
     "output_type": "stream",
     "text": [
      "Recovered x_hat:\n",
      "[[0.09589178]\n",
      " [0.09768766]\n",
      " [0.0992037 ]\n",
      " [0.09915997]\n",
      " [0.10180801]\n",
      " [0.09708412]\n",
      " [0.09756022]\n",
      " [0.09633015]\n",
      " [0.09829935]\n",
      " [0.10043628]]\n"
     ]
    }
   ],
   "source": [
    "# Example dimensions\n",
    "I, J, W = 5, 5, 10  # Adjust as needed\n",
    "N = 3  # Number of sensors (should be less than or equal to I)\n",
    "\n",
    "# Create random tensors for A, P, and Y\n",
    "A = tl.tensor(np.random.randn(I, J, W), dtype=tl.float32)\n",
    "\n",
    "# Create a random permutation/sensor selection matrix P (N x I)\n",
    "indices = np.random.choice(I, N, replace=False)\n",
    "P = np.eye(I)[indices]  # Shape: (N, I)\n",
    "\n",
    "# Generate observed data Y (N x J)\n",
    "Y = mode_dot(A, P, mode=0)\n",
    "Y = Y.mean(axis=2)  # Aggregate along the W dimension for simplicity\n",
    "\n",
    "# Set algorithm parameters\n",
    "max_iter = 50\n",
    "epsilon = 1e-3\n",
    "lambd = 0.1\n",
    "delta_0 = 1.0\n",
    "delta_max = 10.0\n",
    "\n",
    "# Call the algorithm\n",
    "x_hat = tensor_based_compressive_sensing(A, P, Y, max_iter, epsilon, lambd, delta_0, delta_max)\n",
    "\n",
    "# x_hat contains the recovered sparse code vector\n",
    "print(\"Recovered x_hat:\")\n",
    "print(x_hat)"
   ]
  },
  {
   "cell_type": "code",
   "execution_count": null,
   "metadata": {},
   "outputs": [],
   "source": []
  }
 ],
 "metadata": {
  "kernelspec": {
   "display_name": "Python 3",
   "language": "python",
   "name": "python3"
  },
  "language_info": {
   "codemirror_mode": {
    "name": "ipython",
    "version": 3
   },
   "file_extension": ".py",
   "mimetype": "text/x-python",
   "name": "python",
   "nbconvert_exporter": "python",
   "pygments_lexer": "ipython3",
   "version": "3.12.5"
  }
 },
 "nbformat": 4,
 "nbformat_minor": 2
}
